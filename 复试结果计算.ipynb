{
 "cells": [
  {
   "cell_type": "code",
   "execution_count": 1,
   "metadata": {},
   "outputs": [],
   "source": [
    "import matplotlib.pyplot as plt"
   ]
  },
  {
   "cell_type": "code",
   "execution_count": 2,
   "metadata": {},
   "outputs": [],
   "source": [
    "def grade():\n",
    "    r = int(input('初试占比:例如百分之五十，输入50'))\n",
    "    R = int(input('复试占比'))\n",
    "    c_rate = 500/r\n",
    "    f_rate = 100/R\n",
    "    c_real = []\n",
    "    s=int(input('添加初试分数'))\n",
    "\n",
    "\n",
    "    c_real.append(s)\n",
    "    ok = 'y'\n",
    "    while ok != 'n':\n",
    "        e=int(input('比较初试分数'))\n",
    "        c_real.append(e)\n",
    "        ok =input('继续添加？ y/n ')\n",
    "    S=input('复试范围底')\n",
    "    E=input('复试范围顶')\n",
    "    f_real = range(int(S),int(E))\n",
    "    \n",
    "    \n",
    "    \n",
    "    C = []\n",
    "    colors = []\n",
    "    plt.rcParams['font.sans-serif'] = [\"simhei\"]\n",
    "    for c in c_real:\n",
    "        R = []\n",
    "        F = []\n",
    "        for f in f_real:\n",
    "        \n",
    "        #C.append(c)\n",
    "            F.append(f)\n",
    "            result = c / c_rate + f / f_rate\n",
    "            R.append(result)\n",
    "            print('初试：',c,' 复试：',f,' 总分：',result)\n",
    "        \n",
    "        #print(F)\n",
    "        #print(R)\n",
    "        #input('plot?')\n",
    "        plt.title(\"总成绩\")\n",
    "        plt.xlabel('复试实际得分')\n",
    "        plt.ylabel('换算百分制总分')\n",
    "        color=input('颜色：g,r,c,m,y,k,即blue，green,red,cyan,magenta,yellow,black:')\n",
    "        colors.append(color)\n",
    "        plt.plot(F,R,color=color, linestyle='solid')\n",
    "    i = 0\n",
    "    for grade in c_real:\n",
    "        print('分数：', grade ,\"--\",\"颜色：\",colors[i])\n",
    "        i = i + 1\n",
    "        \n",
    "    #print(F)\n",
    "    #print(R)\n",
    "    #input('plot?')\n",
    "    #plt.title(\"总成绩\")\n",
    "    #plt.xlabel('复试实际得分')\n",
    "    #plt.ylabel('换算百分制总分')\n",
    "    #color=input('颜色：g,r,c,m,y,k,即blue，green,red,cyan,magenta,yellow,black:')\n",
    "    #plt.plot(F,R,color=color, linestyle='solid')\n",
    "    \n",
    "    \n",
    "    #if  input('exit? y/n') == 'y':\n",
    "     #   plt.show()\n",
    "      #  break"
   ]
  },
  {
   "cell_type": "code",
   "execution_count": 3,
   "metadata": {},
   "outputs": [
    {
     "name": "stdin",
     "output_type": "stream",
     "text": [
      "初试占比:例如百分之五十，输入50 50\n",
      "复试占比 50\n",
      "添加初试分数 350\n",
      "比较初试分数 380\n",
      "继续添加？ y/n  y\n",
      "比较初试分数 410\n",
      "继续添加？ y/n  n\n",
      "复试范围底 75\n",
      "复试范围顶 95\n"
     ]
    },
    {
     "name": "stdout",
     "output_type": "stream",
     "text": [
      "初试： 350  复试： 75  总分： 72.5\n",
      "初试： 350  复试： 76  总分： 73.0\n",
      "初试： 350  复试： 77  总分： 73.5\n",
      "初试： 350  复试： 78  总分： 74.0\n",
      "初试： 350  复试： 79  总分： 74.5\n",
      "初试： 350  复试： 80  总分： 75.0\n",
      "初试： 350  复试： 81  总分： 75.5\n",
      "初试： 350  复试： 82  总分： 76.0\n",
      "初试： 350  复试： 83  总分： 76.5\n",
      "初试： 350  复试： 84  总分： 77.0\n",
      "初试： 350  复试： 85  总分： 77.5\n",
      "初试： 350  复试： 86  总分： 78.0\n",
      "初试： 350  复试： 87  总分： 78.5\n",
      "初试： 350  复试： 88  总分： 79.0\n",
      "初试： 350  复试： 89  总分： 79.5\n",
      "初试： 350  复试： 90  总分： 80.0\n",
      "初试： 350  复试： 91  总分： 80.5\n",
      "初试： 350  复试： 92  总分： 81.0\n",
      "初试： 350  复试： 93  总分： 81.5\n",
      "初试： 350  复试： 94  总分： 82.0\n"
     ]
    },
    {
     "name": "stdin",
     "output_type": "stream",
     "text": [
      "颜色：g,r,c,m,y,k,即blue，green,red,cyan,magenta,yellow,black: g\n"
     ]
    },
    {
     "name": "stdout",
     "output_type": "stream",
     "text": [
      "初试： 380  复试： 75  总分： 75.5\n",
      "初试： 380  复试： 76  总分： 76.0\n",
      "初试： 380  复试： 77  总分： 76.5\n",
      "初试： 380  复试： 78  总分： 77.0\n",
      "初试： 380  复试： 79  总分： 77.5\n",
      "初试： 380  复试： 80  总分： 78.0\n",
      "初试： 380  复试： 81  总分： 78.5\n",
      "初试： 380  复试： 82  总分： 79.0\n",
      "初试： 380  复试： 83  总分： 79.5\n",
      "初试： 380  复试： 84  总分： 80.0\n",
      "初试： 380  复试： 85  总分： 80.5\n",
      "初试： 380  复试： 86  总分： 81.0\n",
      "初试： 380  复试： 87  总分： 81.5\n",
      "初试： 380  复试： 88  总分： 82.0\n",
      "初试： 380  复试： 89  总分： 82.5\n",
      "初试： 380  复试： 90  总分： 83.0\n",
      "初试： 380  复试： 91  总分： 83.5\n",
      "初试： 380  复试： 92  总分： 84.0\n",
      "初试： 380  复试： 93  总分： 84.5\n",
      "初试： 380  复试： 94  总分： 85.0\n"
     ]
    },
    {
     "name": "stdin",
     "output_type": "stream",
     "text": [
      "颜色：g,r,c,m,y,k,即blue，green,red,cyan,magenta,yellow,black: r\n"
     ]
    },
    {
     "name": "stdout",
     "output_type": "stream",
     "text": [
      "初试： 410  复试： 75  总分： 78.5\n",
      "初试： 410  复试： 76  总分： 79.0\n",
      "初试： 410  复试： 77  总分： 79.5\n",
      "初试： 410  复试： 78  总分： 80.0\n",
      "初试： 410  复试： 79  总分： 80.5\n",
      "初试： 410  复试： 80  总分： 81.0\n",
      "初试： 410  复试： 81  总分： 81.5\n",
      "初试： 410  复试： 82  总分： 82.0\n",
      "初试： 410  复试： 83  总分： 82.5\n",
      "初试： 410  复试： 84  总分： 83.0\n",
      "初试： 410  复试： 85  总分： 83.5\n",
      "初试： 410  复试： 86  总分： 84.0\n",
      "初试： 410  复试： 87  总分： 84.5\n",
      "初试： 410  复试： 88  总分： 85.0\n",
      "初试： 410  复试： 89  总分： 85.5\n",
      "初试： 410  复试： 90  总分： 86.0\n",
      "初试： 410  复试： 91  总分： 86.5\n",
      "初试： 410  复试： 92  总分： 87.0\n",
      "初试： 410  复试： 93  总分： 87.5\n",
      "初试： 410  复试： 94  总分： 88.0\n"
     ]
    },
    {
     "name": "stdin",
     "output_type": "stream",
     "text": [
      "颜色：g,r,c,m,y,k,即blue，green,red,cyan,magenta,yellow,black: m\n"
     ]
    },
    {
     "name": "stdout",
     "output_type": "stream",
     "text": [
      "分数： 350 -- 颜色： g\n",
      "分数： 380 -- 颜色： r\n",
      "分数： 410 -- 颜色： m\n"
     ]
    },
    {
     "data": {
      "image/png": "[encoded data removed]",
      "text/plain": [
       "<Figure size 432x288 with 1 Axes>"
      ]
     },
     "metadata": {
      "needs_background": "light"
     },
     "output_type": "display_data"
    }
   ],
   "source": [
    "grade()"
   ]
  }
 ],
 "metadata": {
  "kernelspec": {
   "display_name": "Python 3",
   "language": "python",
   "name": "python3"
  },
  "language_info": {
   "codemirror_mode": {
    "name": "ipython",
    "version": 3
   },
   "file_extension": ".py",
   "mimetype": "text/x-python",
   "name": "python",
   "nbconvert_exporter": "python",
   "pygments_lexer": "ipython3",
   "version": "3.7.7"
  }
 },
 "nbformat": 4,
 "nbformat_minor": 4
}
